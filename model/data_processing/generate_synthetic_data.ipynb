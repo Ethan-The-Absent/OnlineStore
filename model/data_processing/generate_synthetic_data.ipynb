{
 "cells": [
  {
   "cell_type": "markdown",
   "id": "576036d2",
   "metadata": {},
   "source": [
    "# Generate Synthetic Data"
   ]
  },
  {
   "cell_type": "markdown",
   "id": "f95aab7d",
   "metadata": {},
   "source": [
    "Generates 1000 Synthetic Data Points from an input dataframe"
   ]
  },
  {
   "cell_type": "markdown",
   "id": "c8d67ca0",
   "metadata": {},
   "source": [
    "**Airflow Params:** input_path, output_path"
   ]
  },
  {
   "cell_type": "code",
   "execution_count": 2,
   "id": "b027176b",
   "metadata": {},
   "outputs": [],
   "source": [
    "%%capture\n",
    "!pip install sdv"
   ]
  },
  {
   "cell_type": "code",
   "execution_count": 3,
   "id": "81921f85",
   "metadata": {},
   "outputs": [],
   "source": [
    "import pandas as pd\n",
    "\n",
    "real_dataframe = pd.read_csv('../../Data/Top 1000 Steam Games 2023 export 2025-07-09 14-37-02.csv')\n"
   ]
  },
  {
   "cell_type": "code",
   "execution_count": 5,
   "id": "2375d9be",
   "metadata": {},
   "outputs": [],
   "source": [
    "from sdv.metadata import Metadata\n",
    "\n",
    "real_dataframe = real_dataframe.drop(['average_forever', 'average_2weeks', 'median_forever', 'median_2weeks', 'userscore', 'score_rank', 'languages'], axis=1)\n",
    "metadata = Metadata.detect_from_dataframe(data=real_dataframe)\n",
    "# metadata.save_to_json('my_metadata.json')  # Doing this suppresses the warning but is probably not worth the extra file clutter."
   ]
  },
  {
   "cell_type": "code",
   "execution_count": null,
   "id": "5346735c",
   "metadata": {},
   "outputs": [
    {
     "name": "stderr",
     "output_type": "stream",
     "text": [
      "/Users/tommyknickerbocker/opt/anaconda3/lib/python3.9/site-packages/sdv/single_table/base.py:129: UserWarning:\n",
      "\n",
      "We strongly recommend saving the metadata using 'save_to_json' for replicability in future SDV versions.\n",
      "\n"
     ]
    },
    {
     "data": {
      "application/vnd.microsoft.datawrangler.viewer.v0+json": {
       "columns": [
        {
         "name": "index",
         "rawType": "int64",
         "type": "integer"
        },
        {
         "name": "appid",
         "rawType": "int64",
         "type": "integer"
        },
        {
         "name": "name",
         "rawType": "object",
         "type": "string"
        },
        {
         "name": "developer",
         "rawType": "object",
         "type": "string"
        },
        {
         "name": "publisher",
         "rawType": "object",
         "type": "string"
        },
        {
         "name": "positive",
         "rawType": "int64",
         "type": "integer"
        },
        {
         "name": "negative",
         "rawType": "int64",
         "type": "integer"
        },
        {
         "name": "owners",
         "rawType": "object",
         "type": "string"
        },
        {
         "name": "price",
         "rawType": "int64",
         "type": "integer"
        },
        {
         "name": "initialprice",
         "rawType": "int64",
         "type": "integer"
        },
        {
         "name": "discount",
         "rawType": "int64",
         "type": "integer"
        },
        {
         "name": "genre",
         "rawType": "object",
         "type": "string"
        },
        {
         "name": "ccu",
         "rawType": "int64",
         "type": "integer"
        },
        {
         "name": "tags",
         "rawType": "object",
         "type": "string"
        }
       ],
       "ref": "19b02be2-1608-4d0b-82a9-a75f53764fd6",
       "rows": [
        [
         "0",
         "12461183",
         "War Robots",
         "Dry Cactus",
         "Raptor Byte",
         "148218",
         "21234",
         "2,000,000 .. 5,000,000",
         "30",
         "26",
         "0",
         "Adventure, Casual, Free to Play, Indie, Massively Multiplayer, RPG, Strategy",
         "19837",
         "{'Base-Building': 1142, 'Colony Sim': 954, 'Strategy': 852, 'Zombies': 811, 'Survival': 803, 'RTS': 760, 'Tower Defense': 566, 'City Builder': 425, 'Steampunk': 405, 'Building': 372, 'Post-apocalyptic': 337, 'Singleplayer': 323, 'Resource Management': 307, 'Real-Time with Pause': 238, 'Difficult': 211, 'Tactical': 202, 'Management': 192, 'Indie': 98, 'Early Access': 97, 'Isometric': 78}"
        ],
        [
         "1",
         "13336975",
         "KurtzPel",
         "ProjectMoon",
         "Perfuse Entertainment",
         "27387",
         "6556",
         "1,000,000 .. 2,000,000",
         "251",
         "458",
         "0",
         "Action, Adventure, Casual, Indie, Strategy",
         "577",
         "{'Battle Royale': 309, 'Free to Play': 224, 'Action': 160, 'Massively Multiplayer': 141, 'Multiplayer': 134, 'Survival': 124, 'Early Access': 112, 'Adventure': 111, 'Indie': 110, 'Third-Person Shooter': 110, 'Shooter': 89, 'Open World': 81, '1980s': 65, 'PvP': 58, 'Character Customization': 50, 'FPS': 41, 'Memes': 35, 'Co-op': 18, 'Anime': 12, 'BMX': 11}"
        ],
        [
         "2",
         "8264178",
         "Escape the Backrooms",
         "Infinity Ward, Raven Software, Beenox, Treyarch, High Moon Studios, Sledgehammer Games, Activision Shanghai, Demonware, Toys for Bob",
         "Sandbox Interactive GmbH",
         "23128",
         "12317",
         "1,000,000 .. 2,000,000",
         "516",
         "442",
         "0",
         "Free to Play, Strategy",
         "2723",
         "{'FPS': 1804, 'Multiplayer': 1573, 'Action': 1542, 'Shooter': 1538, 'Singleplayer': 1477, 'Military': 1460, 'First-Person': 1413, 'War': 1339, 'Modern': 1306, 'Tactical': 1229, 'Violent': 1196, 'Co-op': 1184, 'Realistic': 1180, 'Story Rich': 1156, 'Atmospheric': 1004, 'Mature': 440, 'Online Co-Op': 380, 'Gore': 259, 'Third-Person Shooter': 195, 'Third Person': 181}"
        ],
        [
         "3",
         "85632",
         "Rust",
         "OVERKILL Software",
         "SEGA, Feral Interactive (Mac), Feral Interactive (Linux)",
         "7369",
         "1859",
         "1,000,000 .. 2,000,000",
         "1",
         "0",
         "0",
         "Action",
         "1343",
         "{'Puzzle': 961, 'Philosophical': 558, 'First-Person': 505, 'Sci-fi': 487, 'Atmospheric': 461, 'Story Rich': 455, 'Singleplayer': 444, 'Great Soundtrack': 324, 'Robots': 305, 'Adventure': 268, 'Exploration': 260, 'Indie': 198, 'Open World': 194, 'Multiple Endings': 152, 'Difficult': 144, 'Mystery': 128, 'Post-apocalyptic': 120, 'Action': 106, 'Simulation': 77, 'Science': 33}"
        ],
        [
         "4",
         "16374677",
         "Street Fighter V",
         "BioWare",
         "SEGA, Feral Interactive (Mac), Feral Interactive (Linux)",
         "20841",
         "7831",
         "1,000,000 .. 2,000,000",
         "73",
         "124",
         "0",
         "Free to Play, Massively Multiplayer, RPG",
         "1414",
         "{'Racing': 813, 'Automobile Sim': 155, 'Sports': 142, 'Simulation': 114, 'Driving': 94, 'Multiplayer': 85, 'Realistic': 71, 'Singleplayer': 56, 'Co-op': 24, 'Action': 15, 'First-Person': 15, 'Controller': 9}"
        ]
       ],
       "shape": {
        "columns": 13,
        "rows": 5
       }
      },
      "text/html": [
       "<div>\n",
       "<style scoped>\n",
       "    .dataframe tbody tr th:only-of-type {\n",
       "        vertical-align: middle;\n",
       "    }\n",
       "\n",
       "    .dataframe tbody tr th {\n",
       "        vertical-align: top;\n",
       "    }\n",
       "\n",
       "    .dataframe thead th {\n",
       "        text-align: right;\n",
       "    }\n",
       "</style>\n",
       "<table border=\"1\" class=\"dataframe\">\n",
       "  <thead>\n",
       "    <tr style=\"text-align: right;\">\n",
       "      <th></th>\n",
       "      <th>appid</th>\n",
       "      <th>name</th>\n",
       "      <th>developer</th>\n",
       "      <th>publisher</th>\n",
       "      <th>positive</th>\n",
       "      <th>negative</th>\n",
       "      <th>owners</th>\n",
       "      <th>price</th>\n",
       "      <th>initialprice</th>\n",
       "      <th>discount</th>\n",
       "      <th>genre</th>\n",
       "      <th>ccu</th>\n",
       "      <th>tags</th>\n",
       "    </tr>\n",
       "  </thead>\n",
       "  <tbody>\n",
       "    <tr>\n",
       "      <th>0</th>\n",
       "      <td>12461183</td>\n",
       "      <td>War Robots</td>\n",
       "      <td>Dry Cactus</td>\n",
       "      <td>Raptor Byte</td>\n",
       "      <td>148218</td>\n",
       "      <td>21234</td>\n",
       "      <td>2,000,000 .. 5,000,000</td>\n",
       "      <td>30</td>\n",
       "      <td>26</td>\n",
       "      <td>0</td>\n",
       "      <td>Adventure, Casual, Free to Play, Indie, Massiv...</td>\n",
       "      <td>19837</td>\n",
       "      <td>{'Base-Building': 1142, 'Colony Sim': 954, 'St...</td>\n",
       "    </tr>\n",
       "    <tr>\n",
       "      <th>1</th>\n",
       "      <td>13336975</td>\n",
       "      <td>KurtzPel</td>\n",
       "      <td>ProjectMoon</td>\n",
       "      <td>Perfuse Entertainment</td>\n",
       "      <td>27387</td>\n",
       "      <td>6556</td>\n",
       "      <td>1,000,000 .. 2,000,000</td>\n",
       "      <td>251</td>\n",
       "      <td>458</td>\n",
       "      <td>0</td>\n",
       "      <td>Action, Adventure, Casual, Indie, Strategy</td>\n",
       "      <td>577</td>\n",
       "      <td>{'Battle Royale': 309, 'Free to Play': 224, 'A...</td>\n",
       "    </tr>\n",
       "    <tr>\n",
       "      <th>2</th>\n",
       "      <td>8264178</td>\n",
       "      <td>Escape the Backrooms</td>\n",
       "      <td>Infinity Ward, Raven Software, Beenox, Treyarc...</td>\n",
       "      <td>Sandbox Interactive GmbH</td>\n",
       "      <td>23128</td>\n",
       "      <td>12317</td>\n",
       "      <td>1,000,000 .. 2,000,000</td>\n",
       "      <td>516</td>\n",
       "      <td>442</td>\n",
       "      <td>0</td>\n",
       "      <td>Free to Play, Strategy</td>\n",
       "      <td>2723</td>\n",
       "      <td>{'FPS': 1804, 'Multiplayer': 1573, 'Action': 1...</td>\n",
       "    </tr>\n",
       "    <tr>\n",
       "      <th>3</th>\n",
       "      <td>85632</td>\n",
       "      <td>Rust</td>\n",
       "      <td>OVERKILL Software</td>\n",
       "      <td>SEGA, Feral Interactive (Mac), Feral Interacti...</td>\n",
       "      <td>7369</td>\n",
       "      <td>1859</td>\n",
       "      <td>1,000,000 .. 2,000,000</td>\n",
       "      <td>1</td>\n",
       "      <td>0</td>\n",
       "      <td>0</td>\n",
       "      <td>Action</td>\n",
       "      <td>1343</td>\n",
       "      <td>{'Puzzle': 961, 'Philosophical': 558, 'First-P...</td>\n",
       "    </tr>\n",
       "    <tr>\n",
       "      <th>4</th>\n",
       "      <td>16374677</td>\n",
       "      <td>Street Fighter V</td>\n",
       "      <td>BioWare</td>\n",
       "      <td>SEGA, Feral Interactive (Mac), Feral Interacti...</td>\n",
       "      <td>20841</td>\n",
       "      <td>7831</td>\n",
       "      <td>1,000,000 .. 2,000,000</td>\n",
       "      <td>73</td>\n",
       "      <td>124</td>\n",
       "      <td>0</td>\n",
       "      <td>Free to Play, Massively Multiplayer, RPG</td>\n",
       "      <td>1414</td>\n",
       "      <td>{'Racing': 813, 'Automobile Sim': 155, 'Sports...</td>\n",
       "    </tr>\n",
       "  </tbody>\n",
       "</table>\n",
       "</div>"
      ],
      "text/plain": [
       "      appid                  name  \\\n",
       "0  12461183            War Robots   \n",
       "1  13336975              KurtzPel   \n",
       "2   8264178  Escape the Backrooms   \n",
       "3     85632                  Rust   \n",
       "4  16374677      Street Fighter V   \n",
       "\n",
       "                                           developer  \\\n",
       "0                                         Dry Cactus   \n",
       "1                                        ProjectMoon   \n",
       "2  Infinity Ward, Raven Software, Beenox, Treyarc...   \n",
       "3                                  OVERKILL Software   \n",
       "4                                            BioWare   \n",
       "\n",
       "                                           publisher  positive  negative  \\\n",
       "0                                        Raptor Byte    148218     21234   \n",
       "1                              Perfuse Entertainment     27387      6556   \n",
       "2                           Sandbox Interactive GmbH     23128     12317   \n",
       "3  SEGA, Feral Interactive (Mac), Feral Interacti...      7369      1859   \n",
       "4  SEGA, Feral Interactive (Mac), Feral Interacti...     20841      7831   \n",
       "\n",
       "                   owners  price  initialprice  discount  \\\n",
       "0  2,000,000 .. 5,000,000     30            26         0   \n",
       "1  1,000,000 .. 2,000,000    251           458         0   \n",
       "2  1,000,000 .. 2,000,000    516           442         0   \n",
       "3  1,000,000 .. 2,000,000      1             0         0   \n",
       "4  1,000,000 .. 2,000,000     73           124         0   \n",
       "\n",
       "                                               genre    ccu  \\\n",
       "0  Adventure, Casual, Free to Play, Indie, Massiv...  19837   \n",
       "1         Action, Adventure, Casual, Indie, Strategy    577   \n",
       "2                             Free to Play, Strategy   2723   \n",
       "3                                             Action   1343   \n",
       "4           Free to Play, Massively Multiplayer, RPG   1414   \n",
       "\n",
       "                                                tags  \n",
       "0  {'Base-Building': 1142, 'Colony Sim': 954, 'St...  \n",
       "1  {'Battle Royale': 309, 'Free to Play': 224, 'A...  \n",
       "2  {'FPS': 1804, 'Multiplayer': 1573, 'Action': 1...  \n",
       "3  {'Puzzle': 961, 'Philosophical': 558, 'First-P...  \n",
       "4  {'Racing': 813, 'Automobile Sim': 155, 'Sports...  "
      ]
     },
     "execution_count": 6,
     "metadata": {},
     "output_type": "execute_result"
    }
   ],
   "source": [
    "from sdv.single_table import GaussianCopulaSynthesizer\n",
    "\n",
    "synthesizer = GaussianCopulaSynthesizer(metadata)\n",
    "synthesizer.fit(real_dataframe)\n",
    "\n",
    "synthetic_data = synthesizer.sample(num_rows=1000)\n",
    "synthetic_data.head()"
   ]
  },
  {
   "cell_type": "code",
   "execution_count": null,
   "id": "7666f288",
   "metadata": {},
   "outputs": [
    {
     "name": "stdout",
     "output_type": "stream",
     "text": [
      "Finished.\n"
     ]
    }
   ],
   "source": [
    "synthetic_data.to_csv(\"../../Data/synthetic_games_data_1000.csv\")\n",
    "print(\"Finished.\")"
   ]
  },
  {
   "cell_type": "markdown",
   "id": "47a29850",
   "metadata": {},
   "source": [
    "---"
   ]
  }
 ],
 "metadata": {
  "kernelspec": {
   "display_name": "base",
   "language": "python",
   "name": "python3"
  },
  "language_info": {
   "codemirror_mode": {
    "name": "ipython",
    "version": 3
   },
   "file_extension": ".py",
   "mimetype": "text/x-python",
   "name": "python",
   "nbconvert_exporter": "python",
   "pygments_lexer": "ipython3",
   "version": "3.9.13"
  }
 },
 "nbformat": 4,
 "nbformat_minor": 5
}
